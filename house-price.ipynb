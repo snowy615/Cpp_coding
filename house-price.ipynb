{
 "cells": [
  {
   "cell_type": "code",
   "execution_count": 1,
   "id": "31d9ace9",
   "metadata": {
    "_cell_guid": "b1076dfc-b9ad-4769-8c92-a6c4dae69d19",
    "_uuid": "8f2839f25d086af736a60e9eeb907d3b93b6e0e5",
    "execution": {
     "iopub.execute_input": "2025-08-17T00:12:57.722513Z",
     "iopub.status.busy": "2025-08-17T00:12:57.722166Z",
     "iopub.status.idle": "2025-08-17T00:13:01.571512Z",
     "shell.execute_reply": "2025-08-17T00:13:01.570572Z"
    },
    "papermill": {
     "duration": 3.854687,
     "end_time": "2025-08-17T00:13:01.573232",
     "exception": false,
     "start_time": "2025-08-17T00:12:57.718545",
     "status": "completed"
    },
    "tags": []
   },
   "outputs": [],
   "source": [
    "import os\n",
    "import pandas as pd\n",
    "from sklearn.metrics import mean_absolute_error\n",
    "from sklearn.ensemble import RandomForestRegressor\n",
    "from sklearn.model_selection import train_test_split\n"
   ]
  },
  {
   "cell_type": "code",
   "execution_count": 2,
   "id": "88d298f0",
   "metadata": {
    "execution": {
     "iopub.execute_input": "2025-08-17T00:13:01.578883Z",
     "iopub.status.busy": "2025-08-17T00:13:01.578431Z",
     "iopub.status.idle": "2025-08-17T00:13:01.643362Z",
     "shell.execute_reply": "2025-08-17T00:13:01.642365Z"
    },
    "papermill": {
     "duration": 0.069179,
     "end_time": "2025-08-17T00:13:01.644961",
     "exception": false,
     "start_time": "2025-08-17T00:13:01.575782",
     "status": "completed"
    },
    "tags": []
   },
   "outputs": [],
   "source": [
    "iowa_file_path = '/kaggle/input/home-data-for-ml-course/train.csv'\n",
    "home_data = pd.read_csv(iowa_file_path)\n",
    "y = home_data.SalePrice\n",
    "\n",
    "features = ['LotArea', 'YearBuilt', '1stFlrSF', '2ndFlrSF', 'FullBath', 'BedroomAbvGr', 'TotRmsAbvGrd', 'PoolArea', 'WoodDeckSF']\n",
    "x = home_data[features]\n",
    "x.head()\n",
    "\n",
    "train_x, val_x, train_y, val_y = train_test_split(x, y, random_state=1)"
   ]
  },
  {
   "cell_type": "code",
   "execution_count": 3,
   "id": "5d85eede",
   "metadata": {
    "execution": {
     "iopub.execute_input": "2025-08-17T00:13:01.650137Z",
     "iopub.status.busy": "2025-08-17T00:13:01.649809Z",
     "iopub.status.idle": "2025-08-17T00:13:02.154806Z",
     "shell.execute_reply": "2025-08-17T00:13:02.153751Z"
    },
    "papermill": {
     "duration": 0.509195,
     "end_time": "2025-08-17T00:13:02.156209",
     "exception": false,
     "start_time": "2025-08-17T00:13:01.647014",
     "status": "completed"
    },
    "tags": []
   },
   "outputs": [
    {
     "name": "stdout",
     "output_type": "stream",
     "text": [
      "validation 21,956\n"
     ]
    }
   ],
   "source": [
    "rf_model = RandomForestRegressor(random_state=1)\n",
    "rf_model.fit(train_x, train_y)\n",
    "rf_val_predictions = rf_model.predict(val_x)\n",
    "rf_val_mae = mean_absolute_error(rf_val_predictions, val_y)\n",
    "\n",
    "print(\"validation {:,.0f}\".format(rf_val_mae))"
   ]
  },
  {
   "cell_type": "code",
   "execution_count": 4,
   "id": "f850b634",
   "metadata": {
    "execution": {
     "iopub.execute_input": "2025-08-17T00:13:02.161351Z",
     "iopub.status.busy": "2025-08-17T00:13:02.161016Z",
     "iopub.status.idle": "2025-08-17T00:13:02.812842Z",
     "shell.execute_reply": "2025-08-17T00:13:02.811921Z"
    },
    "papermill": {
     "duration": 0.65609,
     "end_time": "2025-08-17T00:13:02.814326",
     "exception": false,
     "start_time": "2025-08-17T00:13:02.158236",
     "status": "completed"
    },
    "tags": []
   },
   "outputs": [
    {
     "data": {
      "text/html": [
       "<style>#sk-container-id-1 {color: black;background-color: white;}#sk-container-id-1 pre{padding: 0;}#sk-container-id-1 div.sk-toggleable {background-color: white;}#sk-container-id-1 label.sk-toggleable__label {cursor: pointer;display: block;width: 100%;margin-bottom: 0;padding: 0.3em;box-sizing: border-box;text-align: center;}#sk-container-id-1 label.sk-toggleable__label-arrow:before {content: \"▸\";float: left;margin-right: 0.25em;color: #696969;}#sk-container-id-1 label.sk-toggleable__label-arrow:hover:before {color: black;}#sk-container-id-1 div.sk-estimator:hover label.sk-toggleable__label-arrow:before {color: black;}#sk-container-id-1 div.sk-toggleable__content {max-height: 0;max-width: 0;overflow: hidden;text-align: left;background-color: #f0f8ff;}#sk-container-id-1 div.sk-toggleable__content pre {margin: 0.2em;color: black;border-radius: 0.25em;background-color: #f0f8ff;}#sk-container-id-1 input.sk-toggleable__control:checked~div.sk-toggleable__content {max-height: 200px;max-width: 100%;overflow: auto;}#sk-container-id-1 input.sk-toggleable__control:checked~label.sk-toggleable__label-arrow:before {content: \"▾\";}#sk-container-id-1 div.sk-estimator input.sk-toggleable__control:checked~label.sk-toggleable__label {background-color: #d4ebff;}#sk-container-id-1 div.sk-label input.sk-toggleable__control:checked~label.sk-toggleable__label {background-color: #d4ebff;}#sk-container-id-1 input.sk-hidden--visually {border: 0;clip: rect(1px 1px 1px 1px);clip: rect(1px, 1px, 1px, 1px);height: 1px;margin: -1px;overflow: hidden;padding: 0;position: absolute;width: 1px;}#sk-container-id-1 div.sk-estimator {font-family: monospace;background-color: #f0f8ff;border: 1px dotted black;border-radius: 0.25em;box-sizing: border-box;margin-bottom: 0.5em;}#sk-container-id-1 div.sk-estimator:hover {background-color: #d4ebff;}#sk-container-id-1 div.sk-parallel-item::after {content: \"\";width: 100%;border-bottom: 1px solid gray;flex-grow: 1;}#sk-container-id-1 div.sk-label:hover label.sk-toggleable__label {background-color: #d4ebff;}#sk-container-id-1 div.sk-serial::before {content: \"\";position: absolute;border-left: 1px solid gray;box-sizing: border-box;top: 0;bottom: 0;left: 50%;z-index: 0;}#sk-container-id-1 div.sk-serial {display: flex;flex-direction: column;align-items: center;background-color: white;padding-right: 0.2em;padding-left: 0.2em;position: relative;}#sk-container-id-1 div.sk-item {position: relative;z-index: 1;}#sk-container-id-1 div.sk-parallel {display: flex;align-items: stretch;justify-content: center;background-color: white;position: relative;}#sk-container-id-1 div.sk-item::before, #sk-container-id-1 div.sk-parallel-item::before {content: \"\";position: absolute;border-left: 1px solid gray;box-sizing: border-box;top: 0;bottom: 0;left: 50%;z-index: -1;}#sk-container-id-1 div.sk-parallel-item {display: flex;flex-direction: column;z-index: 1;position: relative;background-color: white;}#sk-container-id-1 div.sk-parallel-item:first-child::after {align-self: flex-end;width: 50%;}#sk-container-id-1 div.sk-parallel-item:last-child::after {align-self: flex-start;width: 50%;}#sk-container-id-1 div.sk-parallel-item:only-child::after {width: 0;}#sk-container-id-1 div.sk-dashed-wrapped {border: 1px dashed gray;margin: 0 0.4em 0.5em 0.4em;box-sizing: border-box;padding-bottom: 0.4em;background-color: white;}#sk-container-id-1 div.sk-label label {font-family: monospace;font-weight: bold;display: inline-block;line-height: 1.2em;}#sk-container-id-1 div.sk-label-container {text-align: center;}#sk-container-id-1 div.sk-container {/* jupyter's `normalize.less` sets `[hidden] { display: none; }` but bootstrap.min.css set `[hidden] { display: none !important; }` so we also need the `!important` here to be able to override the default hidden behavior on the sphinx rendered scikit-learn.org. See: https://github.com/scikit-learn/scikit-learn/issues/21755 */display: inline-block !important;position: relative;}#sk-container-id-1 div.sk-text-repr-fallback {display: none;}</style><div id=\"sk-container-id-1\" class=\"sk-top-container\"><div class=\"sk-text-repr-fallback\"><pre>RandomForestRegressor(random_state=1)</pre><b>In a Jupyter environment, please rerun this cell to show the HTML representation or trust the notebook. <br />On GitHub, the HTML representation is unable to render, please try loading this page with nbviewer.org.</b></div><div class=\"sk-container\" hidden><div class=\"sk-item\"><div class=\"sk-estimator sk-toggleable\"><input class=\"sk-toggleable__control sk-hidden--visually\" id=\"sk-estimator-id-1\" type=\"checkbox\" checked><label for=\"sk-estimator-id-1\" class=\"sk-toggleable__label sk-toggleable__label-arrow\">RandomForestRegressor</label><div class=\"sk-toggleable__content\"><pre>RandomForestRegressor(random_state=1)</pre></div></div></div></div></div>"
      ],
      "text/plain": [
       "RandomForestRegressor(random_state=1)"
      ]
     },
     "execution_count": 4,
     "metadata": {},
     "output_type": "execute_result"
    }
   ],
   "source": [
    "rf_model_on_full_data = RandomForestRegressor(random_state=1)\n",
    "rf_model_on_full_data.fit(x,y)"
   ]
  },
  {
   "cell_type": "code",
   "execution_count": 5,
   "id": "aa0886ec",
   "metadata": {
    "execution": {
     "iopub.execute_input": "2025-08-17T00:13:02.820010Z",
     "iopub.status.busy": "2025-08-17T00:13:02.819688Z",
     "iopub.status.idle": "2025-08-17T00:13:02.896741Z",
     "shell.execute_reply": "2025-08-17T00:13:02.895664Z"
    },
    "papermill": {
     "duration": 0.081954,
     "end_time": "2025-08-17T00:13:02.898570",
     "exception": false,
     "start_time": "2025-08-17T00:13:02.816616",
     "status": "completed"
    },
    "tags": []
   },
   "outputs": [],
   "source": [
    "test_data_path = '/kaggle/input/home-data-for-ml-course/test.csv'\n",
    "test_data = pd.read_csv(test_data_path)\n",
    "test_x = test_data[features]\n",
    "test_predictions = rf_model_on_full_data.predict(test_x)\n",
    "\n",
    "output = pd.DataFrame({'Id': test_data.Id, 'SalePrice': test_predictions})\n",
    "output.to_csv('submission.csv', index=False)"
   ]
  },
  {
   "cell_type": "markdown",
   "id": "8cb8135e",
   "metadata": {
    "papermill": {
     "duration": 0.001888,
     "end_time": "2025-08-17T00:13:02.902915",
     "exception": false,
     "start_time": "2025-08-17T00:13:02.901027",
     "status": "completed"
    },
    "tags": []
   },
   "source": [
    "Features to consider (without error)\n",
    "'MSSubClass'\n",
    "'LotArea'\n",
    "'OverallQual'\n",
    "'OverallCond'\n",
    "'YearBuilt'\n",
    "'YearRemodAdd'\n",
    "'1stFlrSF'\n",
    "'2ndFlrSF'\n",
    "'LowQualFinSF'\n",
    "'GrLivArea'\n",
    "'FullBath'\n",
    "'HalfBath'\n",
    "'BedroomAbvGr'\n",
    "'KitchenAbvGr'\n",
    "'TotRmsAbvGrd'\n",
    "'Fireplaces'\n",
    "'WoodDeckSF'\n",
    "'OpenPorchSF'\n",
    "'EnclosedPorch'\n",
    "'3SsnPorch'\n",
    "'ScreenPorch'\n",
    "'PoolArea'\n",
    "'MiscVal'\n",
    "'MoSold'\n",
    "'YrSold'"
   ]
  }
 ],
 "metadata": {
  "kaggle": {
   "accelerator": "none",
   "dataSources": [
    {
     "databundleVersionId": 111096,
     "sourceId": 10211,
     "sourceType": "competition"
    }
   ],
   "dockerImageVersionId": 31089,
   "isGpuEnabled": false,
   "isInternetEnabled": false,
   "language": "python",
   "sourceType": "notebook"
  },
  "kernelspec": {
   "display_name": "Python 3",
   "language": "python",
   "name": "python3"
  },
  "language_info": {
   "codemirror_mode": {
    "name": "ipython",
    "version": 3
   },
   "file_extension": ".py",
   "mimetype": "text/x-python",
   "name": "python",
   "nbconvert_exporter": "python",
   "pygments_lexer": "ipython3",
   "version": "3.11.13"
  },
  "papermill": {
   "default_parameters": {},
   "duration": 10.842527,
   "end_time": "2025-08-17T00:13:03.625849",
   "environment_variables": {},
   "exception": null,
   "input_path": "__notebook__.ipynb",
   "output_path": "__notebook__.ipynb",
   "parameters": {},
   "start_time": "2025-08-17T00:12:52.783322",
   "version": "2.6.0"
  }
 },
 "nbformat": 4,
 "nbformat_minor": 5
}
